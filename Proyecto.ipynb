{
 "cells": [
  {
   "cell_type": "markdown",
   "metadata": {},
   "source": [
    "<h1 style=\"color:#507198\";>Proyecto - Lectura de archivos<h1>"
   ]
  },
  {
   "cell_type": "code",
   "execution_count": 2,
   "metadata": {},
   "outputs": [
    {
     "name": "stdout",
     "output_type": "stream",
     "text": [
      "   codigo              Nombre                                 Puesto  \n",
      "0       10        Carlos Peres                          Desarrollador \n",
      "1       25         Hugo Mendez              Abogados de casos internos\n",
      "2       35         Maria Perez                 Investigador de fraude \n",
      "3       45        Sara Pineda                                 Project \n",
      "4       12        Oscar Juarez                          Desarrollador \n",
      "5       95       Lucas Mariano  Jefe  de departamento  de desarrollo  \n",
      "6       75    Pedro Castillo                            Desarrollador \n",
      "7       28     Pedro Rodriguez                 Investigador de fraude \n",
      "8       85  Lucrecia Maldonado                          Desarrollador \n"
     ]
    }
   ],
   "source": [
    "import pandas as  pd\n",
    "    \n",
    "\n",
    "data = pd.read_csv('Listado.csv')\n",
    "\n",
    "print (data)"
   ]
  },
  {
   "cell_type": "code",
   "execution_count": null,
   "metadata": {},
   "outputs": [],
   "source": []
  }
 ],
 "metadata": {
  "kernelspec": {
   "display_name": "Python 3",
   "language": "python",
   "name": "python3"
  },
  "language_info": {
   "codemirror_mode": {
    "name": "ipython",
    "version": 3
   },
   "file_extension": ".py",
   "mimetype": "text/x-python",
   "name": "python",
   "nbconvert_exporter": "python",
   "pygments_lexer": "ipython3",
   "version": "3.8.5"
  }
 },
 "nbformat": 4,
 "nbformat_minor": 4
}
